{
  "nbformat": 4,
  "nbformat_minor": 0,
  "metadata": {
    "colab": {
      "provenance": [],
      "toc_visible": true
    },
    "kernelspec": {
      "name": "python3",
      "display_name": "Python 3"
    },
    "language_info": {
      "name": "python"
    }
  },
  "cells": [
    {
      "cell_type": "markdown",
      "source": [
        "## Day 1"
      ],
      "metadata": {
        "id": "2MgpN4n5m2iV"
      }
    },
    {
      "cell_type": "markdown",
      "source": [
        "##Section"
      ],
      "metadata": {
        "id": "Y2TTfd7eDbWv"
      }
    },
    {
      "cell_type": "markdown",
      "source": [
        "###Basic Coding"
      ],
      "metadata": {
        "id": "jP6_PXpDDqbD"
      }
    },
    {
      "cell_type": "code",
      "source": [
        "name = \"Ruchika\"\n",
        "print(name)"
      ],
      "metadata": {
        "colab": {
          "base_uri": "https://localhost:8080/"
        },
        "id": "vg9RJiH-cyaw",
        "outputId": "d80cc476-1828-40b9-d07a-86aca883412b"
      },
      "execution_count": null,
      "outputs": [
        {
          "output_type": "stream",
          "name": "stdout",
          "text": [
            "Ruchika\n"
          ]
        }
      ]
    },
    {
      "cell_type": "markdown",
      "source": [],
      "metadata": {
        "id": "G6EBdlPkAjRW"
      }
    },
    {
      "cell_type": "code",
      "source": [
        "print(\"Hello\" + input(\"What is your name?\"))"
      ],
      "metadata": {
        "id": "m9CG4BsTc_WK"
      },
      "execution_count": null,
      "outputs": []
    },
    {
      "cell_type": "code",
      "source": [
        "name = input(\"What is your name?\")\n",
        "length = len(name)\n",
        "print(length)"
      ],
      "metadata": {
        "id": "q-cUQU4OdMFn"
      },
      "execution_count": null,
      "outputs": []
    },
    {
      "cell_type": "code",
      "source": [
        "thislist = {\"red\", \"Blue\", \"Orange\",\"Green\"}\n",
        "print(thislist)"
      ],
      "metadata": {
        "id": "_N4IFLfkdUH6"
      },
      "execution_count": null,
      "outputs": []
    },
    {
      "cell_type": "code",
      "source": [
        "fruits = [\"apple\", \"banana\", \"cherry\"]\n",
        "for x in fruits:\n",
        "  print(x)"
      ],
      "metadata": {
        "id": "6zU-3ikRdcY2"
      },
      "execution_count": null,
      "outputs": []
    },
    {
      "cell_type": "markdown",
      "source": [
        "#Day 2"
      ],
      "metadata": {
        "id": "gpMvjip-DxPF"
      }
    },
    {
      "cell_type": "markdown",
      "source": [
        "##Section 5"
      ],
      "metadata": {
        "id": "uHFvQLKHDziZ"
      }
    },
    {
      "cell_type": "markdown",
      "source": [
        "###Python Loops"
      ],
      "metadata": {
        "id": "MBieFwtJD7EI"
      }
    },
    {
      "cell_type": "code",
      "source": [
        " x = \"awesome\"\n",
        "\n",
        "def myfunc():\n",
        "    x = \"fantastic\"\n",
        "    print(\"Python is \" + x)\n",
        "\n",
        "myfunc()\n",
        "\n",
        "print(\"Python is \" + x)"
      ],
      "metadata": {
        "colab": {
          "base_uri": "https://localhost:8080/"
        },
        "id": "EjiNxvjREC4j",
        "outputId": "ad07b5ea-e9c5-4c04-f083-af2a230bf84c"
      },
      "execution_count": null,
      "outputs": [
        {
          "output_type": "stream",
          "name": "stdout",
          "text": [
            "Python is fantastic\n",
            "Python is awesome\n"
          ]
        }
      ]
    },
    {
      "cell_type": "code",
      "source": [
        "fruits = [\"apple\", \"banana\", \"cherry\"]\n",
        "for x in fruits:\n",
        "    print(x)"
      ],
      "metadata": {
        "colab": {
          "base_uri": "https://localhost:8080/"
        },
        "id": "9lbXKZKeEoxU",
        "outputId": "cb0828b2-c4a1-44dc-9664-206db68b6b99"
      },
      "execution_count": null,
      "outputs": [
        {
          "output_type": "stream",
          "name": "stdout",
          "text": [
            "apple\n",
            "banana\n",
            "cherry\n"
          ]
        }
      ]
    },
    {
      "cell_type": "code",
      "source": [
        "a = 33\n",
        "b = 33  # Remove the extra space before 'b'\n",
        "\n",
        "if b > a:\n",
        "    print(\"b is greater than a\")\n",
        "elif a == b:\n",
        "    print(\"a and b are equal\")"
      ],
      "metadata": {
        "colab": {
          "base_uri": "https://localhost:8080/"
        },
        "id": "5I7cJYy6E9FQ",
        "outputId": "cb1c9eb6-c835-4e6c-9692-7bf5cf70ec2e"
      },
      "execution_count": null,
      "outputs": [
        {
          "output_type": "stream",
          "name": "stdout",
          "text": [
            "a and b are equal\n"
          ]
        }
      ]
    },
    {
      "cell_type": "code",
      "source": [
        "num_char = len(input(\"What is your name?\"))\n",
        "new_num_char = str(num_char)\n",
        "print(\"Your name has \" + new_num_char + \" characters.\")"
      ],
      "metadata": {
        "colab": {
          "base_uri": "https://localhost:8080/"
        },
        "id": "I3uv9EVHFKxd",
        "outputId": "2ce4b621-a62e-4dba-b2fa-592378507e47"
      },
      "execution_count": null,
      "outputs": [
        {
          "output_type": "stream",
          "name": "stdout",
          "text": [
            "What is your name?Ruchika\n",
            "Your name has 7 characters.\n"
          ]
        }
      ]
    },
    {
      "cell_type": "code",
      "source": [
        "a = 234\n",
        "print(type(a))"
      ],
      "metadata": {
        "colab": {
          "base_uri": "https://localhost:8080/"
        },
        "id": "GLjbdQKJFVpG",
        "outputId": "5cf92e53-ccb4-4926-f09f-5daa219f4518"
      },
      "execution_count": null,
      "outputs": [
        {
          "output_type": "stream",
          "name": "stdout",
          "text": [
            "<class 'int'>\n"
          ]
        }
      ]
    },
    {
      "cell_type": "code",
      "source": [
        "print(70 + float(\"100.5\"))\n",
        "print(type(8 // 3))"
      ],
      "metadata": {
        "colab": {
          "base_uri": "https://localhost:8080/"
        },
        "id": "2vQfASsZFelK",
        "outputId": "01a90426-cc7a-4ae0-ab23-b75f07380e19"
      },
      "execution_count": null,
      "outputs": [
        {
          "output_type": "stream",
          "name": "stdout",
          "text": [
            "170.5\n",
            "<class 'int'>\n"
          ]
        }
      ]
    },
    {
      "cell_type": "code",
      "source": [
        "score = 4\n",
        "height = 1.9\n",
        "isWinning = True\n",
        "\n",
        "# f-String\n",
        "print(f\"Your score is {score}, your height is {height}, you are winning is {isWinning}\")\n"
      ],
      "metadata": {
        "colab": {
          "base_uri": "https://localhost:8080/"
        },
        "id": "fHOqqm4EFsI5",
        "outputId": "e35634ac-ad34-435c-8fff-c7eef9e49681"
      },
      "execution_count": null,
      "outputs": [
        {
          "output_type": "stream",
          "name": "stdout",
          "text": [
            "Your score is 4, your height is 1.9, you are winning is True\n"
          ]
        }
      ]
    },
    {
      "cell_type": "code",
      "source": [
        "old_age = input(\"Your old age: \")\n",
        "\n",
        "try:\n",
        "    new_age = int(old_age) + 5\n",
        "    print(f\"Your new age will be {new_age} in 5 years.\")\n",
        "except ValueError:\n",
        "    print(\"Invalid input. Please enter a valid integer for your old age.\")\n"
      ],
      "metadata": {
        "colab": {
          "base_uri": "https://localhost:8080/"
        },
        "id": "DDkVnwbJF4eC",
        "outputId": "88776177-4c15-41c2-84b9-ff01cd7d3597"
      },
      "execution_count": null,
      "outputs": [
        {
          "output_type": "stream",
          "name": "stdout",
          "text": [
            "Your old age: 56\n",
            "Your new age will be 61 in 5 years.\n"
          ]
        }
      ]
    }
  ]
}