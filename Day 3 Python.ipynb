{
  "nbformat": 4,
  "nbformat_minor": 0,
  "metadata": {
    "colab": {
      "provenance": [],
      "toc_visible": true
    },
    "kernelspec": {
      "name": "python3",
      "display_name": "Python 3"
    },
    "language_info": {
      "name": "python"
    }
  },
  "cells": [
    {
      "cell_type": "markdown",
      "source": [
        "# Day 1"
      ],
      "metadata": {
        "id": "2MgpN4n5m2iV"
      }
    },
    {
      "cell_type": "markdown",
      "source": [
        "##Section 1"
      ],
      "metadata": {
        "id": "Y2TTfd7eDbWv"
      }
    },
    {
      "cell_type": "markdown",
      "source": [
        "###Basic Coding"
      ],
      "metadata": {
        "id": "jP6_PXpDDqbD"
      }
    },
    {
      "cell_type": "code",
      "source": [
        "name = \"Ruchika\"\n",
        "print(name)"
      ],
      "metadata": {
        "colab": {
          "base_uri": "https://localhost:8080/"
        },
        "id": "vg9RJiH-cyaw",
        "outputId": "d80cc476-1828-40b9-d07a-86aca883412b"
      },
      "execution_count": null,
      "outputs": [
        {
          "output_type": "stream",
          "name": "stdout",
          "text": [
            "Ruchika\n"
          ]
        }
      ]
    },
    {
      "cell_type": "markdown",
      "source": [],
      "metadata": {
        "id": "G6EBdlPkAjRW"
      }
    },
    {
      "cell_type": "code",
      "source": [
        "print(\"Hello\" + input(\"What is your name?\"))"
      ],
      "metadata": {
        "id": "m9CG4BsTc_WK"
      },
      "execution_count": null,
      "outputs": []
    },
    {
      "cell_type": "code",
      "source": [
        "name = input(\"What is your name?\")\n",
        "length = len(name)\n",
        "print(length)"
      ],
      "metadata": {
        "id": "q-cUQU4OdMFn"
      },
      "execution_count": null,
      "outputs": []
    },
    {
      "cell_type": "code",
      "source": [
        "thislist = {\"red\", \"Blue\", \"Orange\",\"Green\"}\n",
        "print(thislist)"
      ],
      "metadata": {
        "id": "_N4IFLfkdUH6"
      },
      "execution_count": null,
      "outputs": []
    },
    {
      "cell_type": "code",
      "source": [
        "fruits = [\"apple\", \"banana\", \"cherry\"]\n",
        "for x in fruits:\n",
        "  print(x)"
      ],
      "metadata": {
        "id": "6zU-3ikRdcY2"
      },
      "execution_count": null,
      "outputs": []
    },
    {
      "cell_type": "markdown",
      "source": [
        "#Day 2"
      ],
      "metadata": {
        "id": "gpMvjip-DxPF"
      }
    },
    {
      "cell_type": "markdown",
      "source": [
        "##Section 5"
      ],
      "metadata": {
        "id": "uHFvQLKHDziZ"
      }
    },
    {
      "cell_type": "markdown",
      "source": [
        "###Python Loops"
      ],
      "metadata": {
        "id": "MBieFwtJD7EI"
      }
    },
    {
      "cell_type": "code",
      "source": [
        " x = \"awesome\"\n",
        "\n",
        "def myfunc():\n",
        "    x = \"fantastic\"\n",
        "    print(\"Python is \" + x)\n",
        "\n",
        "myfunc()\n",
        "\n",
        "print(\"Python is \" + x)"
      ],
      "metadata": {
        "colab": {
          "base_uri": "https://localhost:8080/"
        },
        "id": "EjiNxvjREC4j",
        "outputId": "ad07b5ea-e9c5-4c04-f083-af2a230bf84c"
      },
      "execution_count": null,
      "outputs": [
        {
          "output_type": "stream",
          "name": "stdout",
          "text": [
            "Python is fantastic\n",
            "Python is awesome\n"
          ]
        }
      ]
    },
    {
      "cell_type": "code",
      "source": [
        "fruits = [\"apple\", \"banana\", \"cherry\"]\n",
        "for x in fruits:\n",
        "    print(x)"
      ],
      "metadata": {
        "colab": {
          "base_uri": "https://localhost:8080/"
        },
        "id": "9lbXKZKeEoxU",
        "outputId": "cb0828b2-c4a1-44dc-9664-206db68b6b99"
      },
      "execution_count": null,
      "outputs": [
        {
          "output_type": "stream",
          "name": "stdout",
          "text": [
            "apple\n",
            "banana\n",
            "cherry\n"
          ]
        }
      ]
    },
    {
      "cell_type": "code",
      "source": [
        "a = 33\n",
        "b = 33  # Remove the extra space before 'b'\n",
        "\n",
        "if b > a:\n",
        "    print(\"b is greater than a\")\n",
        "elif a == b:\n",
        "    print(\"a and b are equal\")"
      ],
      "metadata": {
        "colab": {
          "base_uri": "https://localhost:8080/"
        },
        "id": "5I7cJYy6E9FQ",
        "outputId": "cb1c9eb6-c835-4e6c-9692-7bf5cf70ec2e"
      },
      "execution_count": null,
      "outputs": [
        {
          "output_type": "stream",
          "name": "stdout",
          "text": [
            "a and b are equal\n"
          ]
        }
      ]
    },
    {
      "cell_type": "code",
      "source": [
        "num_char = len(input(\"What is your name?\"))\n",
        "new_num_char = str(num_char)\n",
        "print(\"Your name has \" + new_num_char + \" characters.\")"
      ],
      "metadata": {
        "colab": {
          "base_uri": "https://localhost:8080/"
        },
        "id": "I3uv9EVHFKxd",
        "outputId": "2ce4b621-a62e-4dba-b2fa-592378507e47"
      },
      "execution_count": null,
      "outputs": [
        {
          "output_type": "stream",
          "name": "stdout",
          "text": [
            "What is your name?Ruchika\n",
            "Your name has 7 characters.\n"
          ]
        }
      ]
    },
    {
      "cell_type": "code",
      "source": [
        "a = 234\n",
        "print(type(a))"
      ],
      "metadata": {
        "colab": {
          "base_uri": "https://localhost:8080/"
        },
        "id": "GLjbdQKJFVpG",
        "outputId": "5cf92e53-ccb4-4926-f09f-5daa219f4518"
      },
      "execution_count": null,
      "outputs": [
        {
          "output_type": "stream",
          "name": "stdout",
          "text": [
            "<class 'int'>\n"
          ]
        }
      ]
    },
    {
      "cell_type": "code",
      "source": [
        "print(70 + float(\"100.5\"))\n",
        "print(type(8 // 3))"
      ],
      "metadata": {
        "colab": {
          "base_uri": "https://localhost:8080/"
        },
        "id": "2vQfASsZFelK",
        "outputId": "01a90426-cc7a-4ae0-ab23-b75f07380e19"
      },
      "execution_count": null,
      "outputs": [
        {
          "output_type": "stream",
          "name": "stdout",
          "text": [
            "170.5\n",
            "<class 'int'>\n"
          ]
        }
      ]
    },
    {
      "cell_type": "code",
      "source": [
        "score = 4\n",
        "height = 1.9\n",
        "isWinning = True\n",
        "\n",
        "# f-String\n",
        "print(f\"Your score is {score}, your height is {height}, you are winning is {isWinning}\")\n"
      ],
      "metadata": {
        "colab": {
          "base_uri": "https://localhost:8080/"
        },
        "id": "fHOqqm4EFsI5",
        "outputId": "e35634ac-ad34-435c-8fff-c7eef9e49681"
      },
      "execution_count": null,
      "outputs": [
        {
          "output_type": "stream",
          "name": "stdout",
          "text": [
            "Your score is 4, your height is 1.9, you are winning is True\n"
          ]
        }
      ]
    },
    {
      "cell_type": "code",
      "source": [
        "old_age = input(\"Your old age: \")\n",
        "\n",
        "try:\n",
        "    new_age = int(old_age) + 5\n",
        "    print(f\"Your new age will be {new_age} in 5 years.\")\n",
        "except ValueError:\n",
        "    print(\"Invalid input. Please enter a valid integer for your old age.\")\n"
      ],
      "metadata": {
        "colab": {
          "base_uri": "https://localhost:8080/"
        },
        "id": "DDkVnwbJF4eC",
        "outputId": "88776177-4c15-41c2-84b9-ff01cd7d3597"
      },
      "execution_count": null,
      "outputs": [
        {
          "output_type": "stream",
          "name": "stdout",
          "text": [
            "Your old age: 56\n",
            "Your new age will be 61 in 5 years.\n"
          ]
        }
      ]
    },
    {
      "cell_type": "markdown",
      "source": [
        "#Day 3"
      ],
      "metadata": {
        "id": "c_dHPpwZHLCS"
      }
    },
    {
      "cell_type": "markdown",
      "source": [
        "##Section 9"
      ],
      "metadata": {
        "id": "CrKm027SHOYP"
      }
    },
    {
      "cell_type": "code",
      "source": [
        "age = 4\n",
        "\n",
        "if age >= 18:\n",
        "   print(\"You are an adult\")\n",
        "   print(\"You can vote\")\n",
        "elif age<18 and age>3:\n",
        "   print(\"You are in school\")\n",
        "else:\n",
        "   print(\"you are a kid\")\n",
        "print(\"thank u\")"
      ],
      "metadata": {
        "colab": {
          "base_uri": "https://localhost:8080/"
        },
        "id": "GHHYq57mHb54",
        "outputId": "bf4270a0-0a27-4cb8-a1be-2b0f098f1712"
      },
      "execution_count": null,
      "outputs": [
        {
          "output_type": "stream",
          "name": "stdout",
          "text": [
            "You are in school\n",
            "thank u\n"
          ]
        }
      ]
    },
    {
      "cell_type": "code",
      "source": [
        "#Typecasting\n",
        "\n",
        "first = input(\"Enter the first number: \")\n",
        "second = input(\"Enter the second number: \")\n",
        "sum = int(first) + int(second)\n",
        "print(\"The sum is: \" + str(sum))"
      ],
      "metadata": {
        "colab": {
          "base_uri": "https://localhost:8080/"
        },
        "id": "wbs_gfLNI0mW",
        "outputId": "4ab5bebc-27f0-4e98-f560-1a3e671bced0"
      },
      "execution_count": null,
      "outputs": [
        {
          "output_type": "stream",
          "name": "stdout",
          "text": [
            "Enter the first number: 34\n",
            "Enter the second number: 65\n",
            "The sum is: 99\n"
          ]
        }
      ]
    },
    {
      "cell_type": "code",
      "source": [
        "#Calculator\n",
        "\n",
        "first = input(\"Enter the first number: \")\n",
        "operator = input(\"Enter operator (+, -, *, /, %): \")\n",
        "second = input(\"Enter the second number: \")\n",
        "\n",
        "first = float(first)\n",
        "second = float(second)\n",
        "\n",
        "if operator == \"+\":\n",
        "    print(first + second)\n",
        "elif operator == \"-\":\n",
        "    print(first - second)\n",
        "elif operator == \"*\":\n",
        "    print(first * second)\n",
        "elif operator == \"/\":\n",
        "    if second != 0:\n",
        "        print(first / second)\n",
        "\n",
        "else:\n",
        "    print(\"Invalid operation\")\n"
      ],
      "metadata": {
        "colab": {
          "base_uri": "https://localhost:8080/"
        },
        "id": "69n29x1lJQjd",
        "outputId": "fb6bbbc3-5e25-4af1-be1d-96ef1fac2c48"
      },
      "execution_count": null,
      "outputs": [
        {
          "output_type": "stream",
          "name": "stdout",
          "text": [
            "Enter the first number: 45\n",
            "Enter operator (+, -, *, /, %): +\n",
            "Enter the second number: 67\n",
            "112.0\n"
          ]
        }
      ]
    },
    {
      "cell_type": "code",
      "source": [
        "#Loops(While)\n",
        "\n",
        "i = 1\n",
        "while i <= 6:\n",
        "    print(i)\n",
        "    i += 1"
      ],
      "metadata": {
        "colab": {
          "base_uri": "https://localhost:8080/"
        },
        "id": "OWb9SncxJ0Qs",
        "outputId": "bf9c9d41-6cfd-4209-a017-ae2125d251ad"
      },
      "execution_count": null,
      "outputs": [
        {
          "output_type": "stream",
          "name": "stdout",
          "text": [
            "1\n",
            "2\n",
            "3\n",
            "4\n",
            "5\n",
            "6\n"
          ]
        }
      ]
    },
    {
      "cell_type": "code",
      "source": [
        "i = 1\n",
        "while i <= 6:\n",
        "    print(\"hello\" * i)\n",
        "    i += 1\n"
      ],
      "metadata": {
        "colab": {
          "base_uri": "https://localhost:8080/"
        },
        "id": "H_EisPcbKH3D",
        "outputId": "b4147d78-4d20-4caf-a4a1-dec53edee747"
      },
      "execution_count": null,
      "outputs": [
        {
          "output_type": "stream",
          "name": "stdout",
          "text": [
            "hello\n",
            "hellohello\n",
            "hellohellohello\n",
            "hellohellohellohello\n",
            "hellohellohellohellohello\n",
            "hellohellohellohellohellohello\n"
          ]
        }
      ]
    },
    {
      "cell_type": "code",
      "source": [
        "class Person:\n",
        "    def __init__(self, name, id):\n",
        "        self.name = name\n",
        "        self.id = id\n",
        "\n",
        "    def Display(self):\n",
        "        print(self.name, self.id)\n",
        "\n",
        "emp = Person(\"Ruchika\", 102)\n",
        "emp.Display()\n"
      ],
      "metadata": {
        "colab": {
          "base_uri": "https://localhost:8080/"
        },
        "id": "q-bwQu33KPBd",
        "outputId": "7662ae03-ecea-47da-d46f-b1138c03e4df"
      },
      "execution_count": null,
      "outputs": [
        {
          "output_type": "stream",
          "name": "stdout",
          "text": [
            "Ruchika 102\n"
          ]
        }
      ]
    },
    {
      "cell_type": "code",
      "source": [
        "class Employee:\n",
        "    def __init__(self, name, id):\n",
        "        self.id = id\n",
        "        self.name = name\n",
        "\n",
        "    def display(self):\n",
        "        print(\"ID: %d\\nName: %s\" % (self.id, self.name))\n",
        "\n",
        "emp1 = Employee(\"Ruchika\", 101)\n",
        "emp2 = Employee(\"Seha\", 102)\n",
        "\n",
        "emp1.display()\n",
        "emp2.display()\n"
      ],
      "metadata": {
        "colab": {
          "base_uri": "https://localhost:8080/"
        },
        "id": "lgawmu2pKYjk",
        "outputId": "ead4978d-0f44-4fa1-cd89-c8f939002ed4"
      },
      "execution_count": null,
      "outputs": [
        {
          "output_type": "stream",
          "name": "stdout",
          "text": [
            "ID: 101\n",
            "Name: Ruchika\n",
            "ID: 102\n",
            "Name: Seha\n"
          ]
        }
      ]
    },
    {
      "cell_type": "markdown",
      "source": [],
      "metadata": {
        "id": "6FIXpbDuIwkL"
      }
    },
    {
      "cell_type": "markdown",
      "source": [],
      "metadata": {
        "id": "dhWBlAy4HbaA"
      }
    }
  ]
}