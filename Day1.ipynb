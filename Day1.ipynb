{
  "nbformat": 4,
  "nbformat_minor": 0,
  "metadata": {
    "colab": {
      "provenance": [],
      "toc_visible": true
    },
    "kernelspec": {
      "name": "python3",
      "display_name": "Python 3"
    },
    "language_info": {
      "name": "python"
    }
  },
  "cells": [
    {
      "cell_type": "markdown",
      "source": [
        "#Day 1\n"
      ],
      "metadata": {
        "id": "NZCtLUZqmuzG"
      }
    },
    {
      "cell_type": "code",
      "execution_count": null,
      "metadata": {
        "id": "fq0KyM2nmsyF"
      },
      "outputs": [],
      "source": []
    },
    {
      "cell_type": "markdown",
      "source": [
        "##Section 1"
      ],
      "metadata": {
        "id": "S72DNXS0mzXy"
      }
    },
    {
      "cell_type": "markdown",
      "source": [
        "###Code"
      ],
      "metadata": {
        "id": "2MgpN4n5m2iV"
      }
    },
    {
      "cell_type": "code",
      "source": [
        "name = \"Ruchika\"\n",
        "print(name)"
      ],
      "metadata": {
        "colab": {
          "base_uri": "https://localhost:8080/"
        },
        "id": "vg9RJiH-cyaw",
        "outputId": "d80cc476-1828-40b9-d07a-86aca883412b"
      },
      "execution_count": null,
      "outputs": [
        {
          "output_type": "stream",
          "name": "stdout",
          "text": [
            "Ruchika\n"
          ]
        }
      ]
    },
    {
      "cell_type": "code",
      "source": [
        "print(\"Hello\" + input(\"What is your name?\"))"
      ],
      "metadata": {
        "id": "m9CG4BsTc_WK"
      },
      "execution_count": null,
      "outputs": []
    },
    {
      "cell_type": "code",
      "source": [
        "name = input(\"What is your name?\")\n",
        "length = len(name)\n",
        "print(length)"
      ],
      "metadata": {
        "id": "q-cUQU4OdMFn"
      },
      "execution_count": null,
      "outputs": []
    },
    {
      "cell_type": "code",
      "source": [
        "thislist = {\"red\", \"Blue\", \"Orange\",\"Green\"}\n",
        "print(thislist)"
      ],
      "metadata": {
        "id": "_N4IFLfkdUH6"
      },
      "execution_count": null,
      "outputs": []
    },
    {
      "cell_type": "code",
      "source": [
        "fruits = [\"apple\", \"banana\", \"cherry\"]\n",
        "for x in fruits:\n",
        "  print(x)"
      ],
      "metadata": {
        "id": "6zU-3ikRdcY2"
      },
      "execution_count": null,
      "outputs": []
    }
  ]
}