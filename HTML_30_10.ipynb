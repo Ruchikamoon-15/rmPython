{
  "nbformat": 4,
  "nbformat_minor": 0,
  "metadata": {
    "colab": {
      "provenance": [],
      "toc_visible": true
    },
    "kernelspec": {
      "name": "python3",
      "display_name": "Python 3"
    },
    "language_info": {
      "name": "python"
    }
  },
  "cells": [
    {
      "cell_type": "markdown",
      "source": [
        "#HTML Codes"
      ],
      "metadata": {
        "id": "O3DcqEw1wfVf"
      }
    },
    {
      "cell_type": "markdown",
      "source": [
        "##Nesting and Indentation"
      ],
      "metadata": {
        "id": "Hoc3cUA1wxNc"
      }
    },
    {
      "cell_type": "markdown",
      "source": [
        "<ul>\n",
        "    <li>A</li>\n",
        "    <li>\n",
        "      B\n",
        "      <ol>\n",
        "        <li>B1</li>\n",
        "        <li>B2\n",
        "          <ul>\n",
        "            <li>B2a\n",
        "              <ul>\n",
        "                <li>B2aa</li>\n",
        "                <li>B2ab</li>\n",
        "              </ul>\n",
        "            </li>\n",
        "            <li>B2b</li>\n",
        "            <li>B2c</li>\n",
        "          </ul>\n",
        "        </li>\n",
        "        <li>B3\n",
        "          <ol>\n",
        "            <li>B31</li>\n",
        "            <li>B32</li>\n",
        "          </ol>\n",
        "        </li>\n",
        "      </ol>\n",
        "    </li>\n",
        "    <li>C</li>\n",
        "  </ul>"
      ],
      "metadata": {
        "id": "AjapWPSEwmYm"
      }
    }
  ]
}