{
  "nbformat": 4,
  "nbformat_minor": 0,
  "metadata": {
    "colab": {
      "provenance": [],
      "toc_visible": true
    },
    "kernelspec": {
      "name": "python3",
      "display_name": "Python 3"
    },
    "language_info": {
      "name": "python"
    }
  },
  "cells": [
    {
      "cell_type": "markdown",
      "source": [
        "# Day 1"
      ],
      "metadata": {
        "id": "2MgpN4n5m2iV"
      }
    },
    {
      "cell_type": "markdown",
      "source": [
        "##Section 1"
      ],
      "metadata": {
        "id": "Y2TTfd7eDbWv"
      }
    },
    {
      "cell_type": "markdown",
      "source": [
        "###Basic Coding"
      ],
      "metadata": {
        "id": "jP6_PXpDDqbD"
      }
    },
    {
      "cell_type": "code",
      "source": [
        "name = \"Ruchika\"\n",
        "print(name)"
      ],
      "metadata": {
        "colab": {
          "base_uri": "https://localhost:8080/"
        },
        "id": "vg9RJiH-cyaw",
        "outputId": "d80cc476-1828-40b9-d07a-86aca883412b"
      },
      "execution_count": null,
      "outputs": [
        {
          "output_type": "stream",
          "name": "stdout",
          "text": [
            "Ruchika\n"
          ]
        }
      ]
    },
    {
      "cell_type": "markdown",
      "source": [],
      "metadata": {
        "id": "G6EBdlPkAjRW"
      }
    },
    {
      "cell_type": "code",
      "source": [
        "print(\"Hello\" + input(\"What is your name?\"))"
      ],
      "metadata": {
        "id": "m9CG4BsTc_WK"
      },
      "execution_count": null,
      "outputs": []
    },
    {
      "cell_type": "code",
      "source": [
        "name = input(\"What is your name?\")\n",
        "length = len(name)\n",
        "print(length)"
      ],
      "metadata": {
        "id": "q-cUQU4OdMFn"
      },
      "execution_count": null,
      "outputs": []
    },
    {
      "cell_type": "code",
      "source": [
        "thislist = {\"red\", \"Blue\", \"Orange\",\"Green\"}\n",
        "print(thislist)"
      ],
      "metadata": {
        "id": "_N4IFLfkdUH6"
      },
      "execution_count": null,
      "outputs": []
    },
    {
      "cell_type": "code",
      "source": [
        "fruits = [\"apple\", \"banana\", \"cherry\"]\n",
        "for x in fruits:\n",
        "  print(x)"
      ],
      "metadata": {
        "id": "6zU-3ikRdcY2"
      },
      "execution_count": null,
      "outputs": []
    },
    {
      "cell_type": "markdown",
      "source": [
        "#Day 2"
      ],
      "metadata": {
        "id": "gpMvjip-DxPF"
      }
    },
    {
      "cell_type": "markdown",
      "source": [
        "##Section 5"
      ],
      "metadata": {
        "id": "uHFvQLKHDziZ"
      }
    },
    {
      "cell_type": "markdown",
      "source": [
        "###Python Loops"
      ],
      "metadata": {
        "id": "MBieFwtJD7EI"
      }
    },
    {
      "cell_type": "code",
      "source": [
        " x = \"awesome\"\n",
        "\n",
        "def myfunc():\n",
        "    x = \"fantastic\"\n",
        "    print(\"Python is \" + x)\n",
        "\n",
        "myfunc()\n",
        "\n",
        "print(\"Python is \" + x)"
      ],
      "metadata": {
        "colab": {
          "base_uri": "https://localhost:8080/"
        },
        "id": "EjiNxvjREC4j",
        "outputId": "ad07b5ea-e9c5-4c04-f083-af2a230bf84c"
      },
      "execution_count": null,
      "outputs": [
        {
          "output_type": "stream",
          "name": "stdout",
          "text": [
            "Python is fantastic\n",
            "Python is awesome\n"
          ]
        }
      ]
    },
    {
      "cell_type": "code",
      "source": [
        "fruits = [\"apple\", \"banana\", \"cherry\"]\n",
        "for x in fruits:\n",
        "    print(x)"
      ],
      "metadata": {
        "colab": {
          "base_uri": "https://localhost:8080/"
        },
        "id": "9lbXKZKeEoxU",
        "outputId": "cb0828b2-c4a1-44dc-9664-206db68b6b99"
      },
      "execution_count": null,
      "outputs": [
        {
          "output_type": "stream",
          "name": "stdout",
          "text": [
            "apple\n",
            "banana\n",
            "cherry\n"
          ]
        }
      ]
    },
    {
      "cell_type": "code",
      "source": [
        "a = 33\n",
        "b = 33  # Remove the extra space before 'b'\n",
        "\n",
        "if b > a:\n",
        "    print(\"b is greater than a\")\n",
        "elif a == b:\n",
        "    print(\"a and b are equal\")"
      ],
      "metadata": {
        "colab": {
          "base_uri": "https://localhost:8080/"
        },
        "id": "5I7cJYy6E9FQ",
        "outputId": "cb1c9eb6-c835-4e6c-9692-7bf5cf70ec2e"
      },
      "execution_count": null,
      "outputs": [
        {
          "output_type": "stream",
          "name": "stdout",
          "text": [
            "a and b are equal\n"
          ]
        }
      ]
    },
    {
      "cell_type": "code",
      "source": [
        "num_char = len(input(\"What is your name?\"))\n",
        "new_num_char = str(num_char)\n",
        "print(\"Your name has \" + new_num_char + \" characters.\")"
      ],
      "metadata": {
        "colab": {
          "base_uri": "https://localhost:8080/"
        },
        "id": "I3uv9EVHFKxd",
        "outputId": "2ce4b621-a62e-4dba-b2fa-592378507e47"
      },
      "execution_count": null,
      "outputs": [
        {
          "output_type": "stream",
          "name": "stdout",
          "text": [
            "What is your name?Ruchika\n",
            "Your name has 7 characters.\n"
          ]
        }
      ]
    },
    {
      "cell_type": "code",
      "source": [
        "a = 234\n",
        "print(type(a))"
      ],
      "metadata": {
        "colab": {
          "base_uri": "https://localhost:8080/"
        },
        "id": "GLjbdQKJFVpG",
        "outputId": "5cf92e53-ccb4-4926-f09f-5daa219f4518"
      },
      "execution_count": null,
      "outputs": [
        {
          "output_type": "stream",
          "name": "stdout",
          "text": [
            "<class 'int'>\n"
          ]
        }
      ]
    },
    {
      "cell_type": "code",
      "source": [
        "print(70 + float(\"100.5\"))\n",
        "print(type(8 // 3))"
      ],
      "metadata": {
        "colab": {
          "base_uri": "https://localhost:8080/"
        },
        "id": "2vQfASsZFelK",
        "outputId": "01a90426-cc7a-4ae0-ab23-b75f07380e19"
      },
      "execution_count": null,
      "outputs": [
        {
          "output_type": "stream",
          "name": "stdout",
          "text": [
            "170.5\n",
            "<class 'int'>\n"
          ]
        }
      ]
    },
    {
      "cell_type": "code",
      "source": [
        "score = 4\n",
        "height = 1.9\n",
        "isWinning = True\n",
        "\n",
        "# f-String\n",
        "print(f\"Your score is {score}, your height is {height}, you are winning is {isWinning}\")\n"
      ],
      "metadata": {
        "colab": {
          "base_uri": "https://localhost:8080/"
        },
        "id": "fHOqqm4EFsI5",
        "outputId": "e35634ac-ad34-435c-8fff-c7eef9e49681"
      },
      "execution_count": null,
      "outputs": [
        {
          "output_type": "stream",
          "name": "stdout",
          "text": [
            "Your score is 4, your height is 1.9, you are winning is True\n"
          ]
        }
      ]
    },
    {
      "cell_type": "code",
      "source": [
        "old_age = input(\"Your old age: \")\n",
        "\n",
        "try:\n",
        "    new_age = int(old_age) + 5\n",
        "    print(f\"Your new age will be {new_age} in 5 years.\")\n",
        "except ValueError:\n",
        "    print(\"Invalid input. Please enter a valid integer for your old age.\")\n"
      ],
      "metadata": {
        "colab": {
          "base_uri": "https://localhost:8080/"
        },
        "id": "DDkVnwbJF4eC",
        "outputId": "88776177-4c15-41c2-84b9-ff01cd7d3597"
      },
      "execution_count": null,
      "outputs": [
        {
          "output_type": "stream",
          "name": "stdout",
          "text": [
            "Your old age: 56\n",
            "Your new age will be 61 in 5 years.\n"
          ]
        }
      ]
    },
    {
      "cell_type": "markdown",
      "source": [
        "#Day 3"
      ],
      "metadata": {
        "id": "c_dHPpwZHLCS"
      }
    },
    {
      "cell_type": "markdown",
      "source": [
        "##Section 9"
      ],
      "metadata": {
        "id": "CrKm027SHOYP"
      }
    },
    {
      "cell_type": "code",
      "source": [
        "age = 4\n",
        "\n",
        "if age >= 18:\n",
        "   print(\"You are an adult\")\n",
        "   print(\"You can vote\")\n",
        "elif age<18 and age>3:\n",
        "   print(\"You are in school\")\n",
        "else:\n",
        "   print(\"you are a kid\")\n",
        "print(\"thank u\")"
      ],
      "metadata": {
        "colab": {
          "base_uri": "https://localhost:8080/"
        },
        "id": "GHHYq57mHb54",
        "outputId": "bf4270a0-0a27-4cb8-a1be-2b0f098f1712"
      },
      "execution_count": null,
      "outputs": [
        {
          "output_type": "stream",
          "name": "stdout",
          "text": [
            "You are in school\n",
            "thank u\n"
          ]
        }
      ]
    },
    {
      "cell_type": "code",
      "source": [
        "#Typecasting\n",
        "\n",
        "first = input(\"Enter the first number: \")\n",
        "second = input(\"Enter the second number: \")\n",
        "sum = int(first) + int(second)\n",
        "print(\"The sum is: \" + str(sum))"
      ],
      "metadata": {
        "colab": {
          "base_uri": "https://localhost:8080/"
        },
        "id": "wbs_gfLNI0mW",
        "outputId": "4ab5bebc-27f0-4e98-f560-1a3e671bced0"
      },
      "execution_count": null,
      "outputs": [
        {
          "output_type": "stream",
          "name": "stdout",
          "text": [
            "Enter the first number: 34\n",
            "Enter the second number: 65\n",
            "The sum is: 99\n"
          ]
        }
      ]
    },
    {
      "cell_type": "code",
      "source": [
        "#Calculator\n",
        "\n",
        "first = input(\"Enter the first number: \")\n",
        "operator = input(\"Enter operator (+, -, *, /, %): \")\n",
        "second = input(\"Enter the second number: \")\n",
        "\n",
        "first = float(first)\n",
        "second = float(second)\n",
        "\n",
        "if operator == \"+\":\n",
        "    print(first + second)\n",
        "elif operator == \"-\":\n",
        "    print(first - second)\n",
        "elif operator == \"*\":\n",
        "    print(first * second)\n",
        "elif operator == \"/\":\n",
        "    if second != 0:\n",
        "        print(first / second)\n",
        "\n",
        "else:\n",
        "    print(\"Invalid operation\")\n"
      ],
      "metadata": {
        "colab": {
          "base_uri": "https://localhost:8080/"
        },
        "id": "69n29x1lJQjd",
        "outputId": "fb6bbbc3-5e25-4af1-be1d-96ef1fac2c48"
      },
      "execution_count": null,
      "outputs": [
        {
          "output_type": "stream",
          "name": "stdout",
          "text": [
            "Enter the first number: 45\n",
            "Enter operator (+, -, *, /, %): +\n",
            "Enter the second number: 67\n",
            "112.0\n"
          ]
        }
      ]
    },
    {
      "cell_type": "code",
      "source": [
        "#Loops(While)\n",
        "\n",
        "i = 1\n",
        "while i <= 6:\n",
        "    print(i)\n",
        "    i += 1"
      ],
      "metadata": {
        "colab": {
          "base_uri": "https://localhost:8080/"
        },
        "id": "OWb9SncxJ0Qs",
        "outputId": "bf9c9d41-6cfd-4209-a017-ae2125d251ad"
      },
      "execution_count": null,
      "outputs": [
        {
          "output_type": "stream",
          "name": "stdout",
          "text": [
            "1\n",
            "2\n",
            "3\n",
            "4\n",
            "5\n",
            "6\n"
          ]
        }
      ]
    },
    {
      "cell_type": "code",
      "source": [
        "i = 1\n",
        "while i <= 6:\n",
        "    print(\"hello\" * i)\n",
        "    i += 1\n"
      ],
      "metadata": {
        "colab": {
          "base_uri": "https://localhost:8080/"
        },
        "id": "H_EisPcbKH3D",
        "outputId": "b4147d78-4d20-4caf-a4a1-dec53edee747"
      },
      "execution_count": null,
      "outputs": [
        {
          "output_type": "stream",
          "name": "stdout",
          "text": [
            "hello\n",
            "hellohello\n",
            "hellohellohello\n",
            "hellohellohellohello\n",
            "hellohellohellohellohello\n",
            "hellohellohellohellohellohello\n"
          ]
        }
      ]
    },
    {
      "cell_type": "code",
      "source": [
        "class Person:\n",
        "    def __init__(self, name, id):\n",
        "        self.name = name\n",
        "        self.id = id\n",
        "\n",
        "    def Display(self):\n",
        "        print(self.name, self.id)\n",
        "\n",
        "emp = Person(\"Ruchika\", 102)\n",
        "emp.Display()\n"
      ],
      "metadata": {
        "colab": {
          "base_uri": "https://localhost:8080/"
        },
        "id": "q-bwQu33KPBd",
        "outputId": "7662ae03-ecea-47da-d46f-b1138c03e4df"
      },
      "execution_count": null,
      "outputs": [
        {
          "output_type": "stream",
          "name": "stdout",
          "text": [
            "Ruchika 102\n"
          ]
        }
      ]
    },
    {
      "cell_type": "code",
      "source": [
        "class Employee:\n",
        "    def __init__(self, name, id):\n",
        "        self.id = id\n",
        "        self.name = name\n",
        "\n",
        "    def display(self):\n",
        "        print(\"ID: %d\\nName: %s\" % (self.id, self.name))\n",
        "\n",
        "emp1 = Employee(\"Ruchika\", 101)\n",
        "emp2 = Employee(\"Seha\", 102)\n",
        "\n",
        "emp1.display()\n",
        "emp2.display()\n"
      ],
      "metadata": {
        "colab": {
          "base_uri": "https://localhost:8080/"
        },
        "id": "lgawmu2pKYjk",
        "outputId": "ead4978d-0f44-4fa1-cd89-c8f939002ed4"
      },
      "execution_count": null,
      "outputs": [
        {
          "output_type": "stream",
          "name": "stdout",
          "text": [
            "ID: 101\n",
            "Name: Ruchika\n",
            "ID: 102\n",
            "Name: Seha\n"
          ]
        }
      ]
    },
    {
      "cell_type": "markdown",
      "source": [],
      "metadata": {
        "id": "6FIXpbDuIwkL"
      }
    },
    {
      "cell_type": "markdown",
      "source": [
        "#Day 4"
      ],
      "metadata": {
        "id": "q5yK--guLepv"
      }
    },
    {
      "cell_type": "markdown",
      "source": [
        "##List , tuple, set"
      ],
      "metadata": {
        "id": "sJni7dM2LgkR"
      }
    },
    {
      "cell_type": "code",
      "source": [
        "#Creating a List\n",
        "\n",
        "my_list = [1, 2, 3, 4, 5]\n",
        "\n",
        "print(my_list[0])\n",
        "\n",
        "my_list.append(6)\n",
        "my_list[1] = 20\n",
        "\n",
        "for item in my_list:\n",
        "    print(item)\n",
        "\n",
        "squared_list = [x**2 for x in my_list]\n",
        "print(squared_list)\n"
      ],
      "metadata": {
        "colab": {
          "base_uri": "https://localhost:8080/"
        },
        "id": "5Fgo4nzpLpsL",
        "outputId": "402f4a71-0728-479a-d30d-af128c7e6a5f"
      },
      "execution_count": null,
      "outputs": [
        {
          "output_type": "stream",
          "name": "stdout",
          "text": [
            "1\n",
            "1\n",
            "20\n",
            "3\n",
            "4\n",
            "5\n",
            "6\n",
            "[1, 400, 9, 16, 25, 36]\n"
          ]
        }
      ]
    },
    {
      "cell_type": "code",
      "source": [
        "#Creating a Tuple\n",
        "my_tuple = (1, 2, 3, 4, 5)\n",
        "\n",
        "print(my_tuple[0])  # Access the first element (indexing starts at 0)\n",
        "\n",
        "new_tuple = my_tuple + (6,)\n",
        "\n",
        "for item in my_tuple:\n",
        "    print(item)\n"
      ],
      "metadata": {
        "colab": {
          "base_uri": "https://localhost:8080/"
        },
        "id": "LLy6xn16MFiz",
        "outputId": "cc1b81b9-ce75-4a29-86ea-6c83d6885d0d"
      },
      "execution_count": null,
      "outputs": [
        {
          "output_type": "stream",
          "name": "stdout",
          "text": [
            "1\n",
            "1\n",
            "2\n",
            "3\n",
            "4\n",
            "5\n"
          ]
        }
      ]
    },
    {
      "cell_type": "code",
      "source": [
        "# Creating a Set\n",
        "\n",
        "my_set = {1, 2, 3, 4, 5}\n",
        "\n",
        "my_set.add(6)\n",
        "my_set.remove(3)\n",
        "\n",
        "for item in my_set:\n",
        "    print(item)\n",
        "\n",
        "set1 = {1, 2, 3}\n",
        "set2 = {3, 4, 5}\n",
        "union_set = set1.union(set2)\n",
        "intersection_set = set1.intersection(set2)\n"
      ],
      "metadata": {
        "colab": {
          "base_uri": "https://localhost:8080/"
        },
        "id": "ilVJCOfzMdvu",
        "outputId": "55587a42-9e0a-4049-f03a-16273187050b"
      },
      "execution_count": null,
      "outputs": [
        {
          "output_type": "stream",
          "name": "stdout",
          "text": [
            "1\n",
            "2\n",
            "4\n",
            "5\n",
            "6\n"
          ]
        }
      ]
    },
    {
      "cell_type": "code",
      "source": [
        "# Iterate through a list\n",
        "\n",
        "fruits = [\"apple\", \"banana\", \"cherry\"]\n",
        "for fruit in fruits:\n",
        "    print(fruit)\n",
        "\n",
        "for i in range(1, 6):\n",
        "    print(i)\n",
        "\n",
        "word = \"Python\"\n",
        "for char in word:\n",
        "    print(char)\n"
      ],
      "metadata": {
        "colab": {
          "base_uri": "https://localhost:8080/"
        },
        "id": "8yRSzhtKMt55",
        "outputId": "6041dfd4-37f6-43c6-e903-9919e2c3bbf7"
      },
      "execution_count": null,
      "outputs": [
        {
          "output_type": "stream",
          "name": "stdout",
          "text": [
            "apple\n",
            "banana\n",
            "cherry\n",
            "1\n",
            "2\n",
            "3\n",
            "4\n",
            "5\n",
            "P\n",
            "y\n",
            "t\n",
            "h\n",
            "o\n",
            "n\n"
          ]
        }
      ]
    },
    {
      "cell_type": "code",
      "source": [
        "# Print numbers from 1 to 5 using a while loop\n",
        "\n",
        "count = 1\n",
        "while count <= 5:\n",
        "    print(count)\n",
        "    count += 1\n",
        "\n",
        "user_input = \"\"\n",
        "while user_input != \"quit\":\n",
        "    user_input = input(\"Enter 'quit' to exit: \")\n",
        "    print(\"You entered:\", user_input)\n"
      ],
      "metadata": {
        "colab": {
          "base_uri": "https://localhost:8080/"
        },
        "id": "2iXItclqM_Ua",
        "outputId": "264d3e08-22da-4af2-f399-51235c18b6af"
      },
      "execution_count": null,
      "outputs": [
        {
          "output_type": "stream",
          "name": "stdout",
          "text": [
            "1\n",
            "2\n",
            "3\n",
            "4\n",
            "5\n",
            "Enter 'quit' to exit: quit\n",
            "You entered: quit\n"
          ]
        }
      ]
    },
    {
      "cell_type": "code",
      "source": [
        "# Using break to exit a loop\n",
        "\n",
        "for number in range(1, 11):\n",
        "    if number == 5:\n",
        "        break\n",
        "    print(number)\n",
        "\n",
        "for number in range(1, 6):\n",
        "    if number == 3:\n",
        "        continue\n",
        "    print(number)\n"
      ],
      "metadata": {
        "colab": {
          "base_uri": "https://localhost:8080/"
        },
        "id": "6Cw4CK8ONRvL",
        "outputId": "acad7498-c39d-48b7-dfb3-d8e68f5e51c2"
      },
      "execution_count": null,
      "outputs": [
        {
          "output_type": "stream",
          "name": "stdout",
          "text": [
            "1\n",
            "2\n",
            "3\n",
            "4\n",
            "1\n",
            "2\n",
            "4\n",
            "5\n"
          ]
        }
      ]
    },
    {
      "cell_type": "code",
      "source": [
        "target = 100\n",
        "for number in range(1,target + 1):\n",
        "  if number % 3 == 0 and number % 5 == 0:\n",
        "    print(\"FizzBuzz\")\n",
        "  elif number % 3 == 0:\n",
        "    print(\"Fizz\")\n",
        "  elif number % 5 == 0:\n",
        "    print(\"Buzz\")\n",
        "  else:\n",
        "    print(number)"
      ],
      "metadata": {
        "colab": {
          "base_uri": "https://localhost:8080/"
        },
        "id": "ZX6445y4N6g3",
        "outputId": "82f9dc1c-2849-4fd9-dad0-38c254268241"
      },
      "execution_count": null,
      "outputs": [
        {
          "output_type": "stream",
          "name": "stdout",
          "text": [
            "1\n",
            "2\n",
            "Fizz\n",
            "4\n",
            "Buzz\n",
            "Fizz\n",
            "7\n",
            "8\n",
            "Fizz\n",
            "Buzz\n",
            "11\n",
            "Fizz\n",
            "13\n",
            "14\n",
            "FizzBuzz\n",
            "16\n",
            "17\n",
            "Fizz\n",
            "19\n",
            "Buzz\n",
            "Fizz\n",
            "22\n",
            "23\n",
            "Fizz\n",
            "Buzz\n",
            "26\n",
            "Fizz\n",
            "28\n",
            "29\n",
            "FizzBuzz\n",
            "31\n",
            "32\n",
            "Fizz\n",
            "34\n",
            "Buzz\n",
            "Fizz\n",
            "37\n",
            "38\n",
            "Fizz\n",
            "Buzz\n",
            "41\n",
            "Fizz\n",
            "43\n",
            "44\n",
            "FizzBuzz\n",
            "46\n",
            "47\n",
            "Fizz\n",
            "49\n",
            "Buzz\n",
            "Fizz\n",
            "52\n",
            "53\n",
            "Fizz\n",
            "Buzz\n",
            "56\n",
            "Fizz\n",
            "58\n",
            "59\n",
            "FizzBuzz\n",
            "61\n",
            "62\n",
            "Fizz\n",
            "64\n",
            "Buzz\n",
            "Fizz\n",
            "67\n",
            "68\n",
            "Fizz\n",
            "Buzz\n",
            "71\n",
            "Fizz\n",
            "73\n",
            "74\n",
            "FizzBuzz\n",
            "76\n",
            "77\n",
            "Fizz\n",
            "79\n",
            "Buzz\n",
            "Fizz\n",
            "82\n",
            "83\n",
            "Fizz\n",
            "Buzz\n",
            "86\n",
            "Fizz\n",
            "88\n",
            "89\n",
            "FizzBuzz\n",
            "91\n",
            "92\n",
            "Fizz\n",
            "94\n",
            "Buzz\n",
            "Fizz\n",
            "97\n",
            "98\n",
            "Fizz\n",
            "Buzz\n"
          ]
        }
      ]
    },
    {
      "cell_type": "markdown",
      "source": [],
      "metadata": {
        "id": "dhWBlAy4HbaA"
      }
    },
    {
      "cell_type": "code",
      "source": [
        "# Input a list of student scores\n",
        "student_scores = input().split()\n",
        "for n in range(0, len(student_scores)):\n",
        "  student_scores[n] = int(student_scores[n])\n",
        "\n",
        "# Write your code below this row 👇\n",
        "highest_score = 0\n",
        "for score in student_scores:\n",
        "  if score > highest_score:\n",
        "    highest_score = score\n",
        "print(f\"The highest score in the class is: {highest_score}\")"
      ],
      "metadata": {
        "colab": {
          "base_uri": "https://localhost:8080/"
        },
        "id": "MD2kxPhkOFkC",
        "outputId": "dcab6fa8-823a-446d-8163-2dc35aff2784"
      },
      "execution_count": null,
      "outputs": [
        {
          "output_type": "stream",
          "name": "stdout",
          "text": [
            "56\n",
            "The highest score in the class is: 56\n"
          ]
        }
      ]
    },
    {
      "cell_type": "code",
      "source": [
        "age = input()\n",
        "years = 90 - int(age)\n",
        "weeks = years * 52\n",
        "print(f\"You have {weeks} weeks left.\")\n"
      ],
      "metadata": {
        "colab": {
          "base_uri": "https://localhost:8080/"
        },
        "id": "K-7-wS3oOSDX",
        "outputId": "4f2b6e99-a77c-4323-be6a-a770400c4209"
      },
      "execution_count": null,
      "outputs": [
        {
          "output_type": "stream",
          "name": "stdout",
          "text": [
            "56\n",
            "You have 1768 weeks left.\n"
          ]
        }
      ]
    },
    {
      "cell_type": "markdown",
      "source": [
        "#Day 5"
      ],
      "metadata": {
        "id": "d_iH7VhNPJ-C"
      }
    },
    {
      "cell_type": "markdown",
      "source": [
        "## Codes"
      ],
      "metadata": {
        "id": "bYJDs78wPMgi"
      }
    },
    {
      "cell_type": "code",
      "source": [
        "MENU = {\n",
        "    \"espresso\": {\n",
        "        \"ingredients\": {\n",
        "            \"water\": 50,\n",
        "            \"coffee\": 18,\n",
        "        },\n",
        "        \"cost\": 1.5,\n",
        "    },\n",
        "    \"latte\": {\n",
        "        \"ingredients\": {\n",
        "            \"water\": 200,\n",
        "            \"milk\": 150,\n",
        "            \"coffee\": 24,\n",
        "        },\n",
        "        \"cost\": 2.5,\n",
        "    },\n",
        "    \"cappuccino\": {\n",
        "        \"ingredients\": {\n",
        "            \"water\": 250,\n",
        "            \"milk\": 100,\n",
        "            \"coffee\": 24,\n",
        "        },\n",
        "        \"cost\": 3.0,\n",
        "    }\n",
        "}\n",
        "\n",
        "profit = 0\n",
        "resources = {\n",
        "    \"water\": 300,\n",
        "    \"milk\": 200,\n",
        "    \"coffee\": 100,\n",
        "}\n",
        "\n",
        "\n",
        "def is_resource_sufficient(order_ingredients):\n",
        "    \"\"\"Returns True when order can be made, False if ingredients are insufficient.\"\"\"\n",
        "    for item in order_ingredients:\n",
        "        if order_ingredients[item] > resources[item]:\n",
        "            print(f\"Sorry there is not enough {item}.\")\n",
        "            return False\n",
        "    return True\n",
        "\n",
        "\n",
        "def process_coins():\n",
        "    \"\"\"Returns the total calculated from coins inserted.\"\"\"\n",
        "    print(\"Please insert coins.\")\n",
        "    total = int(input(\"how many quarters?: \")) * 0.25\n",
        "    total += int(input(\"how many dimes?: \")) * 0.1\n",
        "    total += int(input(\"how many nickles?: \")) * 0.05\n",
        "    total += int(input(\"how many pennies?: \")) * 0.01\n",
        "    return total\n",
        "\n",
        "\n",
        "def is_transaction_successful(money_received, drink_cost):\n",
        "    \"\"\"Return True when the payment is accepted, or False if money is insufficient.\"\"\"\n",
        "    if money_received >= drink_cost:\n",
        "        change = round(money_received - drink_cost, 2)\n",
        "        print(f\"Here is ${change} in change.\")\n",
        "        global profit\n",
        "        profit += drink_cost\n",
        "        return True\n",
        "    else:\n",
        "        print(\"Sorry that's not enough money. Money refunded.\")\n",
        "        return False\n",
        "\n",
        "\n",
        "def make_coffee(drink_name, order_ingredients):\n",
        "    \"\"\"Deduct the required ingredients from the resources.\"\"\"\n",
        "    for item in order_ingredients:\n",
        "        resources[item] -= order_ingredients[item]\n",
        "    print(f\"Here is your {drink_name} ☕️. Enjoy!\")\n",
        "\n",
        "\n",
        "is_on = True\n",
        "\n",
        "while is_on:\n",
        "    choice = input(\"​What would you like? (espresso/latte/cappuccino): \")\n",
        "    if choice == \"off\":\n",
        "        is_on = False\n",
        "    elif choice == \"report\":\n",
        "        print(f\"Water: {resources['water']}ml\")\n",
        "        print(f\"Milk: {resources['milk']}ml\")\n",
        "        print(f\"Coffee: {resources['coffee']}g\")\n",
        "        print(f\"Money: ${profit}\")\n",
        "    else:\n",
        "        drink = MENU[choice]\n",
        "        if is_resource_sufficient(drink[\"ingredients\"]):\n",
        "            payment = process_coins()\n",
        "            if is_transaction_successful(payment, drink[\"cost\"]):\n",
        "                make_coffee(choice, drink[\"ingredients\"])\n",
        "\n",
        "\n",
        "\n",
        "\n",
        "\n",
        "\n",
        "\n",
        "\n"
      ],
      "metadata": {
        "colab": {
          "base_uri": "https://localhost:8080/"
        },
        "id": "Rzh7pfvyPhjy",
        "outputId": "6f850598-552d-41a9-b092-19cbc93b0133"
      },
      "execution_count": null,
      "outputs": [
        {
          "name": "stdout",
          "output_type": "stream",
          "text": [
            "​What would you like? (espresso/latte/cappuccino): latte\n",
            "Please insert coins.\n",
            "how many quarters?: 12\n"
          ]
        }
      ]
    },
    {
      "cell_type": "code",
      "source": [],
      "metadata": {
        "id": "shlsQIzWQHzJ"
      },
      "execution_count": null,
      "outputs": []
    }
  ]
}